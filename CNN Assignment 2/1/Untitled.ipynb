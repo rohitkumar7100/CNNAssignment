{
 "cells": [
  {
   "cell_type": "code",
   "execution_count": 1,
   "id": "289db706",
   "metadata": {},
   "outputs": [],
   "source": [
    "import tensorflow as tf\n",
    "import numpy as np\n",
    "import matplotlib.pyplot as plt\n",
    "import pandas as pd"
   ]
  },
  {
   "cell_type": "code",
   "execution_count": 2,
   "id": "da7d59ec",
   "metadata": {},
   "outputs": [
    {
     "name": "stdout",
     "output_type": "stream",
     "text": [
      "The MNIST dataset has a training size of 60000 examples\n",
      "The MNIST dataset has a test size of 10000 examples\n"
     ]
    }
   ],
   "source": [
    "mnist = tf.keras.datasets.mnist\n",
    "\n",
    "(X_train, y_train),(X_test, y_test) = mnist.load_data()\n",
    "\n",
    "print(\"The MNIST dataset has a training size of %d examples\" %len(X_train))\n",
    "print(\"The MNIST dataset has a test size of %d examples\" %len(X_test))"
   ]
  },
  {
   "cell_type": "code",
   "execution_count": 3,
   "id": "07883847",
   "metadata": {},
   "outputs": [
    {
     "name": "stdout",
     "output_type": "stream",
     "text": [
      "X_train shaoe: (60000, 28, 28)\n",
      "60000 train smaples\n",
      "10000 test smaples\n"
     ]
    }
   ],
   "source": [
    "X_train = X_train.astype('float32')/255\n",
    "X_test = X_test.astype('float32')/255\n",
    "\n",
    "print('X_train shaoe:', X_train.shape)\n",
    "print(X_train.shape[0], 'train smaples')\n",
    "print(X_test.shape[0], 'test smaples')\n"
   ]
  },
  {
   "cell_type": "code",
   "execution_count": 4,
   "id": "9fa05b72",
   "metadata": {},
   "outputs": [
    {
     "name": "stdout",
     "output_type": "stream",
     "text": [
      "Integer-valued labels:\n",
      "[5 0 4 1 9 2 1 3 1 4]\n",
      "One-hot labels:\n",
      "[[0. 0. 0. 0. 0. 1. 0. 0. 0. 0.]\n",
      " [1. 0. 0. 0. 0. 0. 0. 0. 0. 0.]\n",
      " [0. 0. 0. 0. 1. 0. 0. 0. 0. 0.]\n",
      " [0. 1. 0. 0. 0. 0. 0. 0. 0. 0.]\n",
      " [0. 0. 0. 0. 0. 0. 0. 0. 0. 1.]\n",
      " [0. 0. 1. 0. 0. 0. 0. 0. 0. 0.]\n",
      " [0. 1. 0. 0. 0. 0. 0. 0. 0. 0.]\n",
      " [0. 0. 0. 1. 0. 0. 0. 0. 0. 0.]\n",
      " [0. 1. 0. 0. 0. 0. 0. 0. 0. 0.]\n",
      " [0. 0. 0. 0. 1. 0. 0. 0. 0. 0.]]\n"
     ]
    }
   ],
   "source": [
    "from keras.utils import np_utils\n",
    "\n",
    "num_classes = 10 \n",
    "# print first ten (integer-valued) training labels\n",
    "print('Integer-valued labels:')\n",
    "print(y_train[:10])\n",
    "\n",
    "# one-hot encode the labels\n",
    "# convert class vectors to binary class matrices\n",
    "y_train = np_utils.to_categorical(y_train, num_classes)\n",
    "y_test = np_utils.to_categorical(y_test, num_classes)\n",
    "\n",
    "# print first ten (one-hot) training labels\n",
    "print('One-hot labels:')\n",
    "print(y_train[:10])"
   ]
  },
  {
   "cell_type": "code",
   "execution_count": 5,
   "id": "ca888e27",
   "metadata": {},
   "outputs": [
    {
     "name": "stdout",
     "output_type": "stream",
     "text": [
      "input_shape:  (28, 28, 1)\n",
      "x_train shape: (60000, 28, 28, 1)\n"
     ]
    }
   ],
   "source": [
    "img_rows, img_cols = 28, 28\n",
    "\n",
    "X_train = X_train.reshape(X_train.shape[0], img_rows, img_cols, 1)\n",
    "X_test = X_test.reshape(X_test.shape[0], img_rows, img_cols, 1)\n",
    "input_shape = (img_rows, img_cols, 1)\n",
    "\n",
    "print('input_shape: ', input_shape)\n",
    "print('x_train shape:', X_train.shape)"
   ]
  },
  {
   "cell_type": "code",
   "execution_count": 10,
   "id": "77cb7378",
   "metadata": {},
   "outputs": [
    {
     "name": "stdout",
     "output_type": "stream",
     "text": [
      "Model: \"sequential_2\"\n",
      "_________________________________________________________________\n",
      "Layer (type)                 Output Shape              Param #   \n",
      "=================================================================\n",
      "conv2d_16 (Conv2D)           (None, 26, 26, 8)         80        \n",
      "_________________________________________________________________\n",
      "batch_normalization_8 (Batch (None, 26, 26, 8)         32        \n",
      "_________________________________________________________________\n",
      "conv2d_17 (Conv2D)           (None, 24, 24, 8)         584       \n",
      "_________________________________________________________________\n",
      "batch_normalization_9 (Batch (None, 24, 24, 8)         32        \n",
      "_________________________________________________________________\n",
      "dropout_6 (Dropout)          (None, 24, 24, 8)         0         \n",
      "_________________________________________________________________\n",
      "conv2d_18 (Conv2D)           (None, 22, 22, 8)         584       \n",
      "_________________________________________________________________\n",
      "batch_normalization_10 (Batc (None, 22, 22, 8)         32        \n",
      "_________________________________________________________________\n",
      "dropout_7 (Dropout)          (None, 22, 22, 8)         0         \n",
      "_________________________________________________________________\n",
      "conv2d_19 (Conv2D)           (None, 20, 20, 8)         584       \n",
      "_________________________________________________________________\n",
      "max_pooling2d_2 (MaxPooling2 (None, 10, 10, 8)         0         \n",
      "_________________________________________________________________\n",
      "conv2d_20 (Conv2D)           (None, 8, 8, 8)           584       \n",
      "_________________________________________________________________\n",
      "batch_normalization_11 (Batc (None, 8, 8, 8)           32        \n",
      "_________________________________________________________________\n",
      "dropout_8 (Dropout)          (None, 8, 8, 8)           0         \n",
      "_________________________________________________________________\n",
      "conv2d_21 (Conv2D)           (None, 6, 6, 16)          1168      \n",
      "_________________________________________________________________\n",
      "conv2d_22 (Conv2D)           (None, 4, 4, 16)          2320      \n",
      "_________________________________________________________________\n",
      "conv2d_23 (Conv2D)           (None, 4, 4, 16)          272       \n",
      "_________________________________________________________________\n",
      "conv2d_24 (Conv2D)           (None, 1, 1, 10)          2570      \n",
      "_________________________________________________________________\n",
      "flatten_2 (Flatten)          (None, 10)                0         \n",
      "_________________________________________________________________\n",
      "activation_2 (Activation)    (None, 10)                0         \n",
      "=================================================================\n",
      "Total params: 8,874\n",
      "Trainable params: 8,810\n",
      "Non-trainable params: 64\n",
      "_________________________________________________________________\n"
     ]
    }
   ],
   "source": [
    "## Model 1\n",
    "from tensorflow.keras.models import Sequential\n",
    "from tensorflow.keras.layers import Conv2D, MaxPooling2D, Flatten, Dense, Dropout, GlobalAveragePooling2D,BatchNormalization,Activation\n",
    "\n",
    "# build the model object\n",
    "model = Sequential()\n",
    "\n",
    "# CONV_1: add CONV layer with RELU activation and depth = 32 kernels\n",
    "model.add(Conv2D(8, kernel_size=(3, 3),activation='relu',input_shape=(28,28,1)))\n",
    "model.add(BatchNormalization())\n",
    "\n",
    "model.add(Conv2D(8, (3,3),  activation='relu'))\n",
    "model.add(BatchNormalization())\n",
    "model.add(Dropout(0.1))\n",
    "\n",
    "model.add(Conv2D(8, (3,3), activation='relu'))\n",
    "model.add(BatchNormalization())\n",
    "model.add(Dropout(0.1))\n",
    "\n",
    "# POOL_1: downsample the image to choose the best features \n",
    "model.add(Conv2D(8, (3,3), activation='relu'))\n",
    "model.add(MaxPooling2D(pool_size=(2, 2)))\n",
    "\n",
    "model.add(Conv2D(8, (3,3), activation='relu'))\n",
    "model.add(BatchNormalization())\n",
    "model.add(Dropout(0.1))\n",
    "\n",
    "model.add(Conv2D(16, (3,3), activation='relu'))\n",
    "model.add(Conv2D(16, (3,3) ,activation='relu'))\n",
    "model.add(Conv2D(16, (1,1) ,activation='relu'))\n",
    "# model.add(MaxPooling2D(pool_size=(2, 2)))\n",
    "\n",
    "# model.add(Conv2D(14, (3,3), activation='relu'))\n",
    "# # model.add(Conv2D(14, (3,3), activation='relu'))\n",
    "# model.add(BatchNormalization())\n",
    "# model.add(Dropout(0.1))\n",
    "\n",
    "model.add(Conv2D(10, 4, 4))                                          \n",
    "\n",
    "# # Here we are Flateening our dat i.e making it one dimensional which we will feed to the network.\n",
    "model.add(Flatten())\n",
    "\n",
    "\n",
    "# # FC_2: output a softmax to squash the matrix into output probabilities for the 10 classes\n",
    "model.add(Activation('softmax'))\n",
    "\n",
    "model.summary()"
   ]
  },
  {
   "cell_type": "code",
   "execution_count": 11,
   "id": "970fddab",
   "metadata": {},
   "outputs": [],
   "source": [
    "# compile the model\n",
    "model.compile(loss='categorical_crossentropy', optimizer='Adam', \n",
    "              metrics=['accuracy'])\n"
   ]
  },
  {
   "cell_type": "code",
   "execution_count": 12,
   "id": "c8a35f24",
   "metadata": {},
   "outputs": [
    {
     "name": "stdout",
     "output_type": "stream",
     "text": [
      "Epoch 1/20\n",
      "1875/1875 [==============================] - 24s 12ms/step - loss: 0.2552 - accuracy: 0.9162 - val_loss: 0.0777 - val_accuracy: 0.9755\n",
      "\n",
      "Epoch 00001: val_loss improved from inf to 0.07768, saving model to model.weights.best.hdf5\n",
      "Epoch 2/20\n",
      "1875/1875 [==============================] - 23s 12ms/step - loss: 0.0830 - accuracy: 0.9739 - val_loss: 0.0603 - val_accuracy: 0.9801\n",
      "\n",
      "Epoch 00002: val_loss improved from 0.07768 to 0.06029, saving model to model.weights.best.hdf5\n",
      "Epoch 3/20\n",
      "1875/1875 [==============================] - 23s 12ms/step - loss: 0.0646 - accuracy: 0.9801 - val_loss: 0.0534 - val_accuracy: 0.9826\n",
      "\n",
      "Epoch 00003: val_loss improved from 0.06029 to 0.05345, saving model to model.weights.best.hdf5\n",
      "Epoch 4/20\n",
      "1875/1875 [==============================] - 22s 12ms/step - loss: 0.0565 - accuracy: 0.9826 - val_loss: 0.0436 - val_accuracy: 0.9861\n",
      "\n",
      "Epoch 00004: val_loss improved from 0.05345 to 0.04364, saving model to model.weights.best.hdf5\n",
      "Epoch 5/20\n",
      "1875/1875 [==============================] - 22s 12ms/step - loss: 0.0491 - accuracy: 0.9841 - val_loss: 0.0338 - val_accuracy: 0.9890\n",
      "\n",
      "Epoch 00005: val_loss improved from 0.04364 to 0.03381, saving model to model.weights.best.hdf5\n",
      "Epoch 6/20\n",
      "1875/1875 [==============================] - 21s 11ms/step - loss: 0.0441 - accuracy: 0.9861 - val_loss: 0.0463 - val_accuracy: 0.9866\n",
      "\n",
      "Epoch 00006: val_loss did not improve from 0.03381\n",
      "Epoch 7/20\n",
      "1875/1875 [==============================] - 22s 12ms/step - loss: 0.0413 - accuracy: 0.9870 - val_loss: 0.0412 - val_accuracy: 0.9868\n",
      "\n",
      "Epoch 00007: val_loss did not improve from 0.03381\n",
      "Epoch 8/20\n",
      "1875/1875 [==============================] - 22s 12ms/step - loss: 0.0387 - accuracy: 0.9877 - val_loss: 0.0355 - val_accuracy: 0.9896\n",
      "\n",
      "Epoch 00008: val_loss did not improve from 0.03381\n",
      "Epoch 9/20\n",
      "1875/1875 [==============================] - 21s 11ms/step - loss: 0.0355 - accuracy: 0.9891 - val_loss: 0.0399 - val_accuracy: 0.9881\n",
      "\n",
      "Epoch 00009: val_loss did not improve from 0.03381\n",
      "Epoch 10/20\n",
      "1875/1875 [==============================] - 22s 12ms/step - loss: 0.0347 - accuracy: 0.9891 - val_loss: 0.0395 - val_accuracy: 0.9892\n",
      "\n",
      "Epoch 00010: val_loss did not improve from 0.03381\n",
      "Epoch 11/20\n",
      "1875/1875 [==============================] - 22s 12ms/step - loss: 0.0322 - accuracy: 0.9900 - val_loss: 0.0332 - val_accuracy: 0.9899\n",
      "\n",
      "Epoch 00011: val_loss improved from 0.03381 to 0.03322, saving model to model.weights.best.hdf5\n",
      "Epoch 12/20\n",
      "1875/1875 [==============================] - 23s 12ms/step - loss: 0.0306 - accuracy: 0.9900 - val_loss: 0.0310 - val_accuracy: 0.9908\n",
      "\n",
      "Epoch 00012: val_loss improved from 0.03322 to 0.03099, saving model to model.weights.best.hdf5\n",
      "Epoch 13/20\n",
      "1875/1875 [==============================] - 23s 12ms/step - loss: 0.0298 - accuracy: 0.9904 - val_loss: 0.0312 - val_accuracy: 0.9913\n",
      "\n",
      "Epoch 00013: val_loss did not improve from 0.03099\n",
      "Epoch 14/20\n",
      "1875/1875 [==============================] - 24s 13ms/step - loss: 0.0283 - accuracy: 0.9909 - val_loss: 0.0337 - val_accuracy: 0.9902\n",
      "\n",
      "Epoch 00014: val_loss did not improve from 0.03099\n",
      "Epoch 15/20\n",
      "1875/1875 [==============================] - 135s 72ms/step - loss: 0.0272 - accuracy: 0.9914 - val_loss: 0.0336 - val_accuracy: 0.9893\n",
      "\n",
      "Epoch 00015: val_loss did not improve from 0.03099\n",
      "Epoch 16/20\n",
      "1875/1875 [==============================] - 128s 68ms/step - loss: 0.0256 - accuracy: 0.9914 - val_loss: 0.0315 - val_accuracy: 0.9905\n",
      "\n",
      "Epoch 00016: val_loss did not improve from 0.03099\n",
      "Epoch 17/20\n",
      "1875/1875 [==============================] - 23s 12ms/step - loss: 0.0262 - accuracy: 0.9916 - val_loss: 0.0356 - val_accuracy: 0.9894\n",
      "\n",
      "Epoch 00017: val_loss did not improve from 0.03099\n",
      "Epoch 18/20\n",
      "1875/1875 [==============================] - 23s 12ms/step - loss: 0.0237 - accuracy: 0.9924 - val_loss: 0.0353 - val_accuracy: 0.9901\n",
      "\n",
      "Epoch 00018: val_loss did not improve from 0.03099\n",
      "Epoch 19/20\n",
      "1875/1875 [==============================] - 22s 12ms/step - loss: 0.0230 - accuracy: 0.9926 - val_loss: 0.0279 - val_accuracy: 0.9921\n",
      "\n",
      "Epoch 00019: val_loss improved from 0.03099 to 0.02792, saving model to model.weights.best.hdf5\n",
      "Epoch 20/20\n",
      "1875/1875 [==============================] - 24s 13ms/step - loss: 0.0245 - accuracy: 0.9921 - val_loss: 0.0297 - val_accuracy: 0.9907\n",
      "\n",
      "Epoch 00020: val_loss did not improve from 0.02792\n"
     ]
    }
   ],
   "source": [
    "from tensorflow.keras.callbacks import ModelCheckpoint   \n",
    "\n",
    "# train the model\n",
    "checkpointer = ModelCheckpoint(filepath='model.weights.best.hdf5', verbose=1, \n",
    "                               save_best_only=True)\n",
    "hist = model.fit(X_train, y_train, batch_size=32, epochs=20,\n",
    "          validation_data=(X_test, y_test), callbacks=[checkpointer], \n",
    "          verbose=1, shuffle=True)"
   ]
  },
  {
   "cell_type": "code",
   "execution_count": null,
   "id": "0fef8504",
   "metadata": {},
   "outputs": [],
   "source": []
  }
 ],
 "metadata": {
  "kernelspec": {
   "display_name": "Python 3",
   "language": "python",
   "name": "python3"
  },
  "language_info": {
   "codemirror_mode": {
    "name": "ipython",
    "version": 3
   },
   "file_extension": ".py",
   "mimetype": "text/x-python",
   "name": "python",
   "nbconvert_exporter": "python",
   "pygments_lexer": "ipython3",
   "version": "3.8.8"
  }
 },
 "nbformat": 4,
 "nbformat_minor": 5
}
