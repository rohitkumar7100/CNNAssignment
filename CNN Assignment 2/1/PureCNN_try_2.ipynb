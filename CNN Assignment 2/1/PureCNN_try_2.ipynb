{
 "cells": [
  {
   "cell_type": "code",
   "execution_count": 1,
   "id": "289db706",
   "metadata": {},
   "outputs": [],
   "source": [
    "import tensorflow as tf\n",
    "import numpy as np\n",
    "import matplotlib.pyplot as plt\n",
    "import pandas as pd"
   ]
  },
  {
   "cell_type": "code",
   "execution_count": 2,
   "id": "da7d59ec",
   "metadata": {},
   "outputs": [
    {
     "name": "stdout",
     "output_type": "stream",
     "text": [
      "The MNIST dataset has a training size of 60000 examples\n",
      "The MNIST dataset has a test size of 10000 examples\n"
     ]
    }
   ],
   "source": [
    "mnist = tf.keras.datasets.mnist\n",
    "\n",
    "(X_train, y_train),(X_test, y_test) = mnist.load_data()\n",
    "\n",
    "print(\"The MNIST dataset has a training size of %d examples\" %len(X_train))\n",
    "print(\"The MNIST dataset has a test size of %d examples\" %len(X_test))"
   ]
  },
  {
   "cell_type": "code",
   "execution_count": 3,
   "id": "07883847",
   "metadata": {},
   "outputs": [
    {
     "name": "stdout",
     "output_type": "stream",
     "text": [
      "X_train shaoe: (60000, 28, 28)\n",
      "60000 train smaples\n",
      "10000 test smaples\n"
     ]
    }
   ],
   "source": [
    "X_train = X_train.astype('float32')/255\n",
    "X_test = X_test.astype('float32')/255\n",
    "\n",
    "print('X_train shaoe:', X_train.shape)\n",
    "print(X_train.shape[0], 'train smaples')\n",
    "print(X_test.shape[0], 'test smaples')\n"
   ]
  },
  {
   "cell_type": "code",
   "execution_count": 4,
   "id": "9fa05b72",
   "metadata": {},
   "outputs": [
    {
     "name": "stdout",
     "output_type": "stream",
     "text": [
      "Integer-valued labels:\n",
      "[5 0 4 1 9 2 1 3 1 4]\n",
      "One-hot labels:\n",
      "[[0. 0. 0. 0. 0. 1. 0. 0. 0. 0.]\n",
      " [1. 0. 0. 0. 0. 0. 0. 0. 0. 0.]\n",
      " [0. 0. 0. 0. 1. 0. 0. 0. 0. 0.]\n",
      " [0. 1. 0. 0. 0. 0. 0. 0. 0. 0.]\n",
      " [0. 0. 0. 0. 0. 0. 0. 0. 0. 1.]\n",
      " [0. 0. 1. 0. 0. 0. 0. 0. 0. 0.]\n",
      " [0. 1. 0. 0. 0. 0. 0. 0. 0. 0.]\n",
      " [0. 0. 0. 1. 0. 0. 0. 0. 0. 0.]\n",
      " [0. 1. 0. 0. 0. 0. 0. 0. 0. 0.]\n",
      " [0. 0. 0. 0. 1. 0. 0. 0. 0. 0.]]\n"
     ]
    }
   ],
   "source": [
    "from keras.utils import np_utils\n",
    "\n",
    "num_classes = 10 \n",
    "# print first ten (integer-valued) training labels\n",
    "print('Integer-valued labels:')\n",
    "print(y_train[:10])\n",
    "\n",
    "# one-hot encode the labels\n",
    "# convert class vectors to binary class matrices\n",
    "y_train = np_utils.to_categorical(y_train, num_classes)\n",
    "y_test = np_utils.to_categorical(y_test, num_classes)\n",
    "\n",
    "# print first ten (one-hot) training labels\n",
    "print('One-hot labels:')\n",
    "print(y_train[:10])"
   ]
  },
  {
   "cell_type": "code",
   "execution_count": 5,
   "id": "ca888e27",
   "metadata": {},
   "outputs": [
    {
     "name": "stdout",
     "output_type": "stream",
     "text": [
      "input_shape:  (28, 28, 1)\n",
      "x_train shape: (60000, 28, 28, 1)\n"
     ]
    }
   ],
   "source": [
    "img_rows, img_cols = 28, 28\n",
    "\n",
    "X_train = X_train.reshape(X_train.shape[0], img_rows, img_cols, 1)\n",
    "X_test = X_test.reshape(X_test.shape[0], img_rows, img_cols, 1)\n",
    "input_shape = (img_rows, img_cols, 1)\n",
    "\n",
    "print('input_shape: ', input_shape)\n",
    "print('x_train shape:', X_train.shape)"
   ]
  },
  {
   "cell_type": "code",
   "execution_count": 6,
   "id": "77cb7378",
   "metadata": {},
   "outputs": [
    {
     "name": "stdout",
     "output_type": "stream",
     "text": [
      "Model: \"sequential\"\n",
      "_________________________________________________________________\n",
      "Layer (type)                 Output Shape              Param #   \n",
      "=================================================================\n",
      "conv2d (Conv2D)              (None, 26, 26, 8)         80        \n",
      "_________________________________________________________________\n",
      "batch_normalization (BatchNo (None, 26, 26, 8)         32        \n",
      "_________________________________________________________________\n",
      "conv2d_1 (Conv2D)            (None, 24, 24, 8)         584       \n",
      "_________________________________________________________________\n",
      "batch_normalization_1 (Batch (None, 24, 24, 8)         32        \n",
      "_________________________________________________________________\n",
      "dropout (Dropout)            (None, 24, 24, 8)         0         \n",
      "_________________________________________________________________\n",
      "conv2d_2 (Conv2D)            (None, 22, 22, 8)         584       \n",
      "_________________________________________________________________\n",
      "batch_normalization_2 (Batch (None, 22, 22, 8)         32        \n",
      "_________________________________________________________________\n",
      "dropout_1 (Dropout)          (None, 22, 22, 8)         0         \n",
      "_________________________________________________________________\n",
      "conv2d_3 (Conv2D)            (None, 20, 20, 8)         584       \n",
      "_________________________________________________________________\n",
      "max_pooling2d (MaxPooling2D) (None, 10, 10, 8)         0         \n",
      "_________________________________________________________________\n",
      "conv2d_4 (Conv2D)            (None, 8, 8, 8)           584       \n",
      "_________________________________________________________________\n",
      "batch_normalization_3 (Batch (None, 8, 8, 8)           32        \n",
      "_________________________________________________________________\n",
      "dropout_2 (Dropout)          (None, 8, 8, 8)           0         \n",
      "_________________________________________________________________\n",
      "conv2d_5 (Conv2D)            (None, 6, 6, 16)          1168      \n",
      "_________________________________________________________________\n",
      "conv2d_6 (Conv2D)            (None, 4, 4, 16)          2320      \n",
      "_________________________________________________________________\n",
      "conv2d_7 (Conv2D)            (None, 4, 4, 16)          272       \n",
      "_________________________________________________________________\n",
      "conv2d_8 (Conv2D)            (None, 1, 1, 10)          2570      \n",
      "_________________________________________________________________\n",
      "flatten (Flatten)            (None, 10)                0         \n",
      "_________________________________________________________________\n",
      "activation (Activation)      (None, 10)                0         \n",
      "=================================================================\n",
      "Total params: 8,874\n",
      "Trainable params: 8,810\n",
      "Non-trainable params: 64\n",
      "_________________________________________________________________\n"
     ]
    }
   ],
   "source": [
    "## Model 1\n",
    "from tensorflow.keras.models import Sequential\n",
    "from tensorflow.keras.layers import Conv2D, MaxPooling2D, Flatten, Dense, Dropout, GlobalAveragePooling2D,BatchNormalization,Activation\n",
    "\n",
    "# build the model object\n",
    "model = Sequential()\n",
    "\n",
    "# CONV_1: add CONV layer with RELU activation and depth = 32 kernels\n",
    "model.add(Conv2D(8, kernel_size=(3, 3),activation='elu',input_shape=(28,28,1)))\n",
    "model.add(BatchNormalization())\n",
    "\n",
    "model.add(Conv2D(8, (3,3),  activation='elu'))\n",
    "model.add(BatchNormalization())\n",
    "model.add(Dropout(0.1))\n",
    "\n",
    "model.add(Conv2D(8, (3,3), activation='elu'))\n",
    "model.add(BatchNormalization())\n",
    "model.add(Dropout(0.1))\n",
    "\n",
    "# POOL_1: downsample the image to choose the best features \n",
    "model.add(Conv2D(8, (3,3), activation='elu'))\n",
    "model.add(MaxPooling2D(pool_size=(2, 2)))\n",
    "\n",
    "model.add(Conv2D(8, (3,3), activation='elu'))\n",
    "model.add(BatchNormalization())\n",
    "model.add(Dropout(0.1))\n",
    "\n",
    "model.add(Conv2D(16, (3,3), activation='elu'))\n",
    "model.add(Conv2D(16, (3,3) ,activation='elu'))\n",
    "model.add(Conv2D(16, (1,1) ,activation='elu'))\n",
    "# model.add(MaxPooling2D(pool_size=(2, 2)))\n",
    "\n",
    "# model.add(Conv2D(14, (3,3), activation='relu'))\n",
    "# # model.add(Conv2D(14, (3,3), activation='relu'))\n",
    "# model.add(BatchNormalization())\n",
    "# model.add(Dropout(0.1))\n",
    "\n",
    "model.add(Conv2D(10, 4, 4))                                          \n",
    "\n",
    "# # Here we are Flateening our dat i.e making it one dimensional which we will feed to the network.\n",
    "model.add(Flatten())\n",
    "\n",
    "\n",
    "# # FC_2: output a softmax to squash the matrix into output probabilities for the 10 classes\n",
    "model.add(Activation('softmax'))\n",
    "\n",
    "model.summary()"
   ]
  },
  {
   "cell_type": "code",
   "execution_count": 7,
   "id": "970fddab",
   "metadata": {},
   "outputs": [],
   "source": [
    "# compile the model\n",
    "model.compile(loss='categorical_crossentropy', optimizer='rmsprop', \n",
    "              metrics=['accuracy'])\n"
   ]
  },
  {
   "cell_type": "code",
   "execution_count": 8,
   "id": "c8a35f24",
   "metadata": {},
   "outputs": [
    {
     "name": "stdout",
     "output_type": "stream",
     "text": [
      "Epoch 1/20\n",
      "1875/1875 [==============================] - 70s 34ms/step - loss: 0.1866 - accuracy: 0.9431 - val_loss: 0.0854 - val_accuracy: 0.9723\n",
      "\n",
      "Epoch 00001: val_loss improved from inf to 0.08539, saving model to model1.weights.best.hdf5\n",
      "Epoch 2/20\n",
      "1875/1875 [==============================] - 56s 30ms/step - loss: 0.0808 - accuracy: 0.9759 - val_loss: 0.0461 - val_accuracy: 0.9850\n",
      "\n",
      "Epoch 00002: val_loss improved from 0.08539 to 0.04613, saving model to model1.weights.best.hdf5\n",
      "Epoch 3/20\n",
      "1875/1875 [==============================] - 59s 31ms/step - loss: 0.0639 - accuracy: 0.9809 - val_loss: 0.0458 - val_accuracy: 0.9853\n",
      "\n",
      "Epoch 00003: val_loss improved from 0.04613 to 0.04585, saving model to model1.weights.best.hdf5\n",
      "Epoch 4/20\n",
      "1875/1875 [==============================] - 58s 31ms/step - loss: 0.0551 - accuracy: 0.9828 - val_loss: 0.0386 - val_accuracy: 0.9874\n",
      "\n",
      "Epoch 00004: val_loss improved from 0.04585 to 0.03856, saving model to model1.weights.best.hdf5\n",
      "Epoch 5/20\n",
      "1875/1875 [==============================] - 56s 30ms/step - loss: 0.0464 - accuracy: 0.9851 - val_loss: 0.0347 - val_accuracy: 0.9888\n",
      "\n",
      "Epoch 00005: val_loss improved from 0.03856 to 0.03468, saving model to model1.weights.best.hdf5\n",
      "Epoch 6/20\n",
      "1875/1875 [==============================] - 58s 31ms/step - loss: 0.0457 - accuracy: 0.9863 - val_loss: 0.0317 - val_accuracy: 0.9898\n",
      "\n",
      "Epoch 00006: val_loss improved from 0.03468 to 0.03173, saving model to model1.weights.best.hdf5\n",
      "Epoch 7/20\n",
      "1875/1875 [==============================] - 56s 30ms/step - loss: 0.0413 - accuracy: 0.9878 - val_loss: 0.0344 - val_accuracy: 0.9894\n",
      "\n",
      "Epoch 00007: val_loss did not improve from 0.03173\n",
      "Epoch 8/20\n",
      "1875/1875 [==============================] - 58s 31ms/step - loss: 0.0392 - accuracy: 0.9883 - val_loss: 0.0483 - val_accuracy: 0.9848\n",
      "\n",
      "Epoch 00008: val_loss did not improve from 0.03173\n",
      "Epoch 9/20\n",
      "1875/1875 [==============================] - 59s 32ms/step - loss: 0.0371 - accuracy: 0.9889 - val_loss: 0.0305 - val_accuracy: 0.9895\n",
      "\n",
      "Epoch 00009: val_loss improved from 0.03173 to 0.03046, saving model to model1.weights.best.hdf5\n",
      "Epoch 10/20\n",
      "1875/1875 [==============================] - 61s 32ms/step - loss: 0.0348 - accuracy: 0.9897 - val_loss: 0.0279 - val_accuracy: 0.9909\n",
      "\n",
      "Epoch 00010: val_loss improved from 0.03046 to 0.02787, saving model to model1.weights.best.hdf5\n",
      "Epoch 11/20\n",
      "1875/1875 [==============================] - 57s 30ms/step - loss: 0.0352 - accuracy: 0.9897 - val_loss: 0.0347 - val_accuracy: 0.9894\n",
      "\n",
      "Epoch 00011: val_loss did not improve from 0.02787\n",
      "Epoch 12/20\n",
      "1875/1875 [==============================] - 61s 32ms/step - loss: 0.0332 - accuracy: 0.9898 - val_loss: 0.0337 - val_accuracy: 0.9894\n",
      "\n",
      "Epoch 00012: val_loss did not improve from 0.02787\n",
      "Epoch 13/20\n",
      "1875/1875 [==============================] - 59s 32ms/step - loss: 0.0316 - accuracy: 0.9902 - val_loss: 0.0363 - val_accuracy: 0.9897\n",
      "\n",
      "Epoch 00013: val_loss did not improve from 0.02787\n",
      "Epoch 14/20\n",
      "1875/1875 [==============================] - 57s 30ms/step - loss: 0.0317 - accuracy: 0.9908 - val_loss: 0.0272 - val_accuracy: 0.9914\n",
      "\n",
      "Epoch 00014: val_loss improved from 0.02787 to 0.02716, saving model to model1.weights.best.hdf5\n",
      "Epoch 15/20\n",
      "1875/1875 [==============================] - 61s 32ms/step - loss: 0.0305 - accuracy: 0.9908 - val_loss: 0.0306 - val_accuracy: 0.9904\n",
      "\n",
      "Epoch 00015: val_loss did not improve from 0.02716\n",
      "Epoch 16/20\n",
      "1875/1875 [==============================] - 57s 30ms/step - loss: 0.0305 - accuracy: 0.9912 - val_loss: 0.0321 - val_accuracy: 0.9897\n",
      "\n",
      "Epoch 00016: val_loss did not improve from 0.02716\n",
      "Epoch 17/20\n",
      "1875/1875 [==============================] - 58s 31ms/step - loss: 0.0303 - accuracy: 0.9909 - val_loss: 0.0341 - val_accuracy: 0.9901\n",
      "\n",
      "Epoch 00017: val_loss did not improve from 0.02716\n",
      "Epoch 18/20\n",
      "1875/1875 [==============================] - 57s 30ms/step - loss: 0.0279 - accuracy: 0.9920 - val_loss: 0.0290 - val_accuracy: 0.9910\n",
      "\n",
      "Epoch 00018: val_loss did not improve from 0.02716\n",
      "Epoch 19/20\n",
      "1875/1875 [==============================] - 57s 31ms/step - loss: 0.0273 - accuracy: 0.9917 - val_loss: 0.0296 - val_accuracy: 0.9916- \n",
      "\n",
      "Epoch 00019: val_loss did not improve from 0.02716\n",
      "Epoch 20/20\n",
      "1875/1875 [==============================] - 59s 32ms/step - loss: 0.0267 - accuracy: 0.9920 - val_loss: 0.0279 - val_accuracy: 0.9920\n",
      "\n",
      "Epoch 00020: val_loss did not improve from 0.02716\n"
     ]
    }
   ],
   "source": [
    "from tensorflow.keras.callbacks import ModelCheckpoint   \n",
    "\n",
    "# train the model\n",
    "checkpointer = ModelCheckpoint(filepath='model1.weights.best.hdf5', verbose=1, \n",
    "                               save_best_only=True)\n",
    "hist = model.fit(X_train, y_train, batch_size=32, epochs=20,\n",
    "          validation_data=(X_test, y_test), callbacks=[checkpointer], \n",
    "          verbose=1, shuffle=True)"
   ]
  },
  {
   "cell_type": "code",
   "execution_count": null,
   "id": "0fef8504",
   "metadata": {},
   "outputs": [],
   "source": []
  }
 ],
 "metadata": {
  "kernelspec": {
   "display_name": "Python 3",
   "language": "python",
   "name": "python3"
  },
  "language_info": {
   "codemirror_mode": {
    "name": "ipython",
    "version": 3
   },
   "file_extension": ".py",
   "mimetype": "text/x-python",
   "name": "python",
   "nbconvert_exporter": "python",
   "pygments_lexer": "ipython3",
   "version": "3.8.8"
  }
 },
 "nbformat": 4,
 "nbformat_minor": 5
}
