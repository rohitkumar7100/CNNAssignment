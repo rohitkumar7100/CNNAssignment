{
 "cells": [
  {
   "cell_type": "code",
   "execution_count": 1,
   "id": "315cf6ad",
   "metadata": {},
   "outputs": [],
   "source": [
    "import pandas as pd\n",
    "import numpy as np\n",
    "import tensorflow as tf"
   ]
  },
  {
   "cell_type": "code",
   "execution_count": 2,
   "id": "a922315e",
   "metadata": {},
   "outputs": [],
   "source": [
    "from tensorflow.keras.models import Sequential\n",
    "from tensorflow.keras.layers import Conv2D\n",
    "from tensorflow.keras.layers import MaxPooling2D\n",
    "from tensorflow.keras.layers import Flatten\n",
    "from tensorflow.keras.layers import Dense"
   ]
  },
  {
   "cell_type": "code",
   "execution_count": 3,
   "id": "d12b25e4",
   "metadata": {},
   "outputs": [
    {
     "data": {
      "text/plain": [
       "'2.5.0'"
      ]
     },
     "execution_count": 3,
     "metadata": {},
     "output_type": "execute_result"
    }
   ],
   "source": [
    "tf.__version__"
   ]
  },
  {
   "cell_type": "code",
   "execution_count": 4,
   "id": "9e5543eb",
   "metadata": {},
   "outputs": [
    {
     "name": "stdout",
     "output_type": "stream",
     "text": [
      "Model: \"sequential\"\n",
      "_________________________________________________________________\n",
      "Layer (type)                 Output Shape              Param #   \n",
      "=================================================================\n",
      "conv2d (Conv2D)              (None, 64, 64, 32)        896       \n",
      "_________________________________________________________________\n",
      "conv2d_1 (Conv2D)            (None, 64, 64, 64)        18496     \n",
      "_________________________________________________________________\n",
      "conv2d_2 (Conv2D)            (None, 62, 62, 128)       73856     \n",
      "_________________________________________________________________\n",
      "max_pooling2d (MaxPooling2D) (None, 31, 31, 128)       0         \n",
      "_________________________________________________________________\n",
      "conv2d_3 (Conv2D)            (None, 31, 31, 64)        73792     \n",
      "_________________________________________________________________\n",
      "conv2d_4 (Conv2D)            (None, 31, 31, 128)       73856     \n",
      "_________________________________________________________________\n",
      "max_pooling2d_1 (MaxPooling2 (None, 15, 15, 128)       0         \n",
      "_________________________________________________________________\n",
      "conv2d_5 (Conv2D)            (None, 15, 15, 64)        73792     \n",
      "_________________________________________________________________\n",
      "conv2d_6 (Conv2D)            (None, 13, 13, 128)       73856     \n",
      "_________________________________________________________________\n",
      "max_pooling2d_2 (MaxPooling2 (None, 6, 6, 128)         0         \n",
      "_________________________________________________________________\n",
      "flatten (Flatten)            (None, 4608)              0         \n",
      "_________________________________________________________________\n",
      "dense (Dense)                (None, 128)               589952    \n",
      "_________________________________________________________________\n",
      "dense_1 (Dense)              (None, 5)                 645       \n",
      "=================================================================\n",
      "Total params: 979,141\n",
      "Trainable params: 979,141\n",
      "Non-trainable params: 0\n",
      "_________________________________________________________________\n"
     ]
    }
   ],
   "source": [
    "classifier = Sequential()\n",
    "classifier.add(Conv2D(32,(3,3), padding='same', input_shape=(64,64,3), activation='relu'))\n",
    "classifier.add(Conv2D(64,(3,3), padding='same', activation='relu'))\n",
    "classifier.add(Conv2D(128,(3,3), activation='relu'))\n",
    "classifier.add(MaxPooling2D(2,2))\n",
    "classifier.add(Conv2D(64,(3,3), padding='same', activation='relu'))\n",
    "classifier.add(Conv2D(128,(3,3), padding='same', activation='relu'))\n",
    "classifier.add(MaxPooling2D(2,2))\n",
    "classifier.add(Conv2D(64, (3,3),padding='same', activation='relu'))\n",
    "classifier.add(Conv2D(128,(3,3), activation='relu'))\n",
    "classifier.add(MaxPooling2D(2,2))\n",
    "classifier.add(Flatten())\n",
    "classifier.add(Dense(units=128, activation='relu'))\n",
    "classifier.add(Dense(units=5, activation='Softmax'))\n",
    "classifier.summary()"
   ]
  },
  {
   "cell_type": "code",
   "execution_count": 5,
   "id": "dd389d8c",
   "metadata": {},
   "outputs": [],
   "source": [
    "classifier.compile(optimizer = 'rmsprop', loss = 'binary_crossentropy', metrics = ['accuracy'])"
   ]
  },
  {
   "cell_type": "code",
   "execution_count": 6,
   "id": "6e71a4c7",
   "metadata": {},
   "outputs": [],
   "source": [
    "from tensorflow.keras.preprocessing.image import ImageDataGenerator"
   ]
  },
  {
   "cell_type": "code",
   "execution_count": 7,
   "id": "1a677052",
   "metadata": {},
   "outputs": [],
   "source": [
    "train_datagen = ImageDataGenerator(rescale=1./255,\n",
    "                                  shear_range=0.2,\n",
    "                                  zoom_range=0.2,\n",
    "                                  horizontal_flip=True)\n"
   ]
  },
  {
   "cell_type": "code",
   "execution_count": 8,
   "id": "fcb610aa",
   "metadata": {},
   "outputs": [
    {
     "name": "stdout",
     "output_type": "stream",
     "text": [
      "Found 4323 images belonging to 5 classes.\n"
     ]
    }
   ],
   "source": [
    "training_set = train_datagen.flow_from_directory('archive/flowers',\n",
    "                                                target_size=(64,64),\n",
    "                                                batch_size=64,\n",
    "                                                class_mode='categorical')"
   ]
  },
  {
   "cell_type": "code",
   "execution_count": 9,
   "id": "af6d5cef",
   "metadata": {},
   "outputs": [],
   "source": [
    "# model = classifier.fit_generator(training_set, \n",
    "#                                 steps_per_epoch=2000,\n",
    "#                                 epochs=20)"
   ]
  },
  {
   "cell_type": "code",
   "execution_count": 10,
   "id": "c54acbdd",
   "metadata": {},
   "outputs": [
    {
     "name": "stdout",
     "output_type": "stream",
     "text": [
      "Epoch 1/50\n"
     ]
    },
    {
     "name": "stderr",
     "output_type": "stream",
     "text": [
      "C:\\Users\\Rohit Kumar\\AppData\\Roaming\\Python\\Python38\\site-packages\\tensorflow\\python\\keras\\engine\\training.py:1940: UserWarning: `Model.fit_generator` is deprecated and will be removed in a future version. Please use `Model.fit`, which supports generators.\n",
      "  warnings.warn('`Model.fit_generator` is deprecated and '\n"
     ]
    },
    {
     "name": "stdout",
     "output_type": "stream",
     "text": [
      "68/68 [==============================] - 15s 147ms/step - loss: 0.4805 - accuracy: 0.3287\n",
      "Epoch 2/50\n",
      "68/68 [==============================] - 8s 123ms/step - loss: 0.4120 - accuracy: 0.4714\n",
      "Epoch 3/50\n",
      "68/68 [==============================] - 8s 120ms/step - loss: 0.3698 - accuracy: 0.5554\n",
      "Epoch 4/50\n",
      "68/68 [==============================] - 9s 125ms/step - loss: 0.3430 - accuracy: 0.6098\n",
      "Epoch 5/50\n",
      "68/68 [==============================] - 8s 121ms/step - loss: 0.3240 - accuracy: 0.6357\n",
      "Epoch 6/50\n",
      "68/68 [==============================] - 9s 125ms/step - loss: 0.3058 - accuracy: 0.6565\n",
      "Epoch 7/50\n",
      "68/68 [==============================] - 10s 145ms/step - loss: 0.2967 - accuracy: 0.6692\n",
      "Epoch 8/50\n",
      "68/68 [==============================] - 10s 150ms/step - loss: 0.2826 - accuracy: 0.6840\n",
      "Epoch 9/50\n",
      "68/68 [==============================] - 9s 135ms/step - loss: 0.2779 - accuracy: 0.6905\n",
      "Epoch 10/50\n",
      "68/68 [==============================] - 9s 135ms/step - loss: 0.2633 - accuracy: 0.7095\n",
      "Epoch 11/50\n",
      "68/68 [==============================] - 10s 142ms/step - loss: 0.2530 - accuracy: 0.7240\n",
      "Epoch 12/50\n",
      "68/68 [==============================] - 13s 195ms/step - loss: 0.2451 - accuracy: 0.7405\n",
      "Epoch 13/50\n",
      "68/68 [==============================] - 13s 191ms/step - loss: 0.2362 - accuracy: 0.7412\n",
      "Epoch 14/50\n",
      "68/68 [==============================] - 10s 148ms/step - loss: 0.2243 - accuracy: 0.7550\n",
      "Epoch 15/50\n",
      "68/68 [==============================] - 11s 157ms/step - loss: 0.2203 - accuracy: 0.7659\n",
      "Epoch 16/50\n",
      "68/68 [==============================] - 9s 137ms/step - loss: 0.2099 - accuracy: 0.7661\n",
      "Epoch 17/50\n",
      "68/68 [==============================] - 9s 136ms/step - loss: 0.2021 - accuracy: 0.7867\n",
      "Epoch 18/50\n",
      "68/68 [==============================] - 10s 141ms/step - loss: 0.1896 - accuracy: 0.7916\n",
      "Epoch 19/50\n",
      "68/68 [==============================] - 10s 142ms/step - loss: 0.1819 - accuracy: 0.8062\n",
      "Epoch 20/50\n",
      "68/68 [==============================] - 9s 138ms/step - loss: 0.1791 - accuracy: 0.8094\n",
      "Epoch 21/50\n",
      "68/68 [==============================] - 10s 139ms/step - loss: 0.1704 - accuracy: 0.8230\n",
      "Epoch 22/50\n",
      "68/68 [==============================] - 9s 138ms/step - loss: 0.1579 - accuracy: 0.8325\n",
      "Epoch 23/50\n",
      "68/68 [==============================] - 10s 139ms/step - loss: 0.1575 - accuracy: 0.8339\n",
      "Epoch 24/50\n",
      "68/68 [==============================] - 9s 138ms/step - loss: 0.1452 - accuracy: 0.8489\n",
      "Epoch 25/50\n",
      "68/68 [==============================] - 10s 143ms/step - loss: 0.1417 - accuracy: 0.8552\n",
      "Epoch 26/50\n",
      "68/68 [==============================] - 10s 140ms/step - loss: 0.1321 - accuracy: 0.8691\n",
      "Epoch 27/50\n",
      "68/68 [==============================] - 10s 140ms/step - loss: 0.1313 - accuracy: 0.8644\n",
      "Epoch 28/50\n",
      "68/68 [==============================] - 9s 138ms/step - loss: 0.1249 - accuracy: 0.8651\n",
      "Epoch 29/50\n",
      "68/68 [==============================] - 9s 138ms/step - loss: 0.1189 - accuracy: 0.8871\n",
      "Epoch 30/50\n",
      "68/68 [==============================] - 10s 140ms/step - loss: 0.1141 - accuracy: 0.8834\n",
      "Epoch 31/50\n",
      "68/68 [==============================] - 9s 138ms/step - loss: 0.1072 - accuracy: 0.8894\n",
      "Epoch 32/50\n",
      "68/68 [==============================] - 10s 144ms/step - loss: 0.0985 - accuracy: 0.9003\n",
      "Epoch 33/50\n",
      "68/68 [==============================] - 10s 139ms/step - loss: 0.1105 - accuracy: 0.8950\n",
      "Epoch 34/50\n",
      "68/68 [==============================] - 10s 140ms/step - loss: 0.0856 - accuracy: 0.9200\n",
      "Epoch 35/50\n",
      "68/68 [==============================] - 10s 140ms/step - loss: 0.0960 - accuracy: 0.9137\n",
      "Epoch 36/50\n",
      "68/68 [==============================] - 10s 140ms/step - loss: 0.0906 - accuracy: 0.9174\n",
      "Epoch 37/50\n",
      "68/68 [==============================] - 10s 139ms/step - loss: 0.0852 - accuracy: 0.9188\n",
      "Epoch 38/50\n",
      "68/68 [==============================] - 10s 147ms/step - loss: 0.0845 - accuracy: 0.9197\n",
      "Epoch 39/50\n",
      "68/68 [==============================] - 10s 140ms/step - loss: 0.0789 - accuracy: 0.9276\n",
      "Epoch 40/50\n",
      "68/68 [==============================] - 10s 141ms/step - loss: 0.0730 - accuracy: 0.9285\n",
      "Epoch 41/50\n",
      "68/68 [==============================] - 10s 140ms/step - loss: 0.0794 - accuracy: 0.9271\n",
      "Epoch 42/50\n",
      "68/68 [==============================] - 10s 141ms/step - loss: 0.0748 - accuracy: 0.9355\n",
      "Epoch 43/50\n",
      "68/68 [==============================] - 10s 141ms/step - loss: 0.0816 - accuracy: 0.9274\n",
      "Epoch 44/50\n",
      "68/68 [==============================] - 10s 149ms/step - loss: 0.0715 - accuracy: 0.9352\n",
      "Epoch 45/50\n",
      "68/68 [==============================] - 10s 149ms/step - loss: 0.0752 - accuracy: 0.9389\n",
      "Epoch 46/50\n",
      "68/68 [==============================] - 10s 142ms/step - loss: 0.0597 - accuracy: 0.9489\n",
      "Epoch 47/50\n",
      "68/68 [==============================] - 10s 144ms/step - loss: 0.0649 - accuracy: 0.9438\n",
      "Epoch 48/50\n",
      "68/68 [==============================] - 10s 144ms/step - loss: 0.0668 - accuracy: 0.9406\n",
      "Epoch 49/50\n",
      "68/68 [==============================] - 10s 142ms/step - loss: 0.0615 - accuracy: 0.9498\n",
      "Epoch 50/50\n",
      "68/68 [==============================] - 10s 146ms/step - loss: 0.0683 - accuracy: 0.9419\n"
     ]
    }
   ],
   "source": [
    "\n",
    "model = classifier.fit_generator(training_set,epochs=50)"
   ]
  },
  {
   "cell_type": "code",
   "execution_count": 11,
   "id": "d89d3ef4",
   "metadata": {},
   "outputs": [],
   "source": [
    "classifier.save(\"model3.h5\")"
   ]
  },
  {
   "cell_type": "code",
   "execution_count": 12,
   "id": "f59388fc",
   "metadata": {},
   "outputs": [
    {
     "name": "stdout",
     "output_type": "stream",
     "text": [
      "0.0\n"
     ]
    }
   ],
   "source": [
    "\n",
    "import numpy as np\n",
    "from tensorflow.keras.preprocessing import image\n",
    "test_image = image.load_img('dandelion.jpg', target_size = (64, 64))\n",
    "test_image = image.img_to_array(test_image)\n",
    "test_image = np.expand_dims(test_image, axis = 0)\n",
    "result = classifier.predict(test_image)\n",
    "training_set.class_indices\n",
    "# if result[0][0] == 1:\n",
    "#     prediction = 'dog'\n",
    "#     print(prediction)\n",
    "# else:\n",
    "#     prediction = 'cat'\n",
    "#     print(prediction)\n",
    "print(result[0][0])"
   ]
  },
  {
   "cell_type": "code",
   "execution_count": 13,
   "id": "a54ccc87",
   "metadata": {},
   "outputs": [
    {
     "data": {
      "text/plain": [
       "array([[0.0000000e+00, 1.0000000e+00, 1.0691071e-34, 0.0000000e+00,\n",
       "        0.0000000e+00]], dtype=float32)"
      ]
     },
     "execution_count": 13,
     "metadata": {},
     "output_type": "execute_result"
    }
   ],
   "source": [
    "result"
   ]
  },
  {
   "cell_type": "code",
   "execution_count": 15,
   "id": "5e5f1e96",
   "metadata": {},
   "outputs": [
    {
     "name": "stdout",
     "output_type": "stream",
     "text": [
      "1.0\n"
     ]
    }
   ],
   "source": [
    "test_image = image.load_img('daisy.jfif', target_size = (64, 64))\n",
    "test_image = image.img_to_array(test_image)\n",
    "test_image = np.expand_dims(test_image, axis = 0)\n",
    "result = classifier.predict(test_image)\n",
    "training_set.class_indices\n",
    "# if result[0][0] == 1:\n",
    "#     prediction = 'dog'\n",
    "#     print(prediction)\n",
    "# else:\n",
    "#     prediction = 'cat'\n",
    "#     print(prediction)\n",
    "print(result[0][0])"
   ]
  },
  {
   "cell_type": "code",
   "execution_count": 16,
   "id": "0043b36e",
   "metadata": {},
   "outputs": [
    {
     "data": {
      "text/plain": [
       "array([[1., 0., 0., 0., 0.]], dtype=float32)"
      ]
     },
     "execution_count": 16,
     "metadata": {},
     "output_type": "execute_result"
    }
   ],
   "source": [
    "result"
   ]
  },
  {
   "cell_type": "code",
   "execution_count": 22,
   "id": "939926d0",
   "metadata": {},
   "outputs": [
    {
     "name": "stdout",
     "output_type": "stream",
     "text": [
      "dandelion\n"
     ]
    }
   ],
   "source": [
    "test_image = image.load_img('dandelion3.jfif', target_size = (64, 64))\n",
    "test_image = image.img_to_array(test_image)\n",
    "test_image = np.expand_dims(test_image, axis = 0)\n",
    "result = classifier.predict(test_image)\n",
    "training_set.class_indices\n",
    "if result[0][0] == 1:\n",
    "    prediction = 'daisy'\n",
    "    print(prediction)\n",
    "elif result[0][1] == 1:\n",
    "    prediction = 'dandelion'\n",
    "    print(prediction)\n",
    "elif result[0][2]==1:\n",
    "    prediction = 'rose'\n",
    "    print(prediction)\n",
    "elif result[0][3]==1:\n",
    "    prediction = 'sunflower'\n",
    "    print(prediction)\n",
    "else:\n",
    "    prediction = 'tulip'\n",
    "    print(prediction)"
   ]
  },
  {
   "cell_type": "code",
   "execution_count": null,
   "id": "df0696c7",
   "metadata": {},
   "outputs": [],
   "source": []
  }
 ],
 "metadata": {
  "kernelspec": {
   "display_name": "Python 3",
   "language": "python",
   "name": "python3"
  },
  "language_info": {
   "codemirror_mode": {
    "name": "ipython",
    "version": 3
   },
   "file_extension": ".py",
   "mimetype": "text/x-python",
   "name": "python",
   "nbconvert_exporter": "python",
   "pygments_lexer": "ipython3",
   "version": "3.8.8"
  }
 },
 "nbformat": 4,
 "nbformat_minor": 5
}
